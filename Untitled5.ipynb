{
  "nbformat": 4,
  "nbformat_minor": 0,
  "metadata": {
    "colab": {
      "name": "Untitled5.ipynb",
      "version": "0.3.2",
      "provenance": [],
      "include_colab_link": true
    },
    "kernelspec": {
      "name": "python3",
      "display_name": "Python 3"
    }
  },
  "cells": [
    {
      "cell_type": "markdown",
      "metadata": {
        "id": "view-in-github",
        "colab_type": "text"
      },
      "source": [
        "[View in Colaboratory](https://colab.research.google.com/github/vishalsangwan/practice/blob/master/Untitled5.ipynb)"
      ]
    },
    {
      "metadata": {
        "id": "u0Cihj1nvumx",
        "colab_type": "code",
        "colab": {}
      },
      "cell_type": "code",
      "source": [
        "import numpy as np"
      ],
      "execution_count": 0,
      "outputs": []
    },
    {
      "metadata": {
        "id": "6L9gL8Qqv1nV",
        "colab_type": "code",
        "colab": {}
      },
      "cell_type": "code",
      "source": [
        "import sys\n",
        "import queue as Q"
      ],
      "execution_count": 0,
      "outputs": []
    },
    {
      "metadata": {
        "id": "OC8_rKD5v4Sk",
        "colab_type": "code",
        "colab": {
          "base_uri": "https://localhost:8080/",
          "height": 35
        },
        "outputId": "d484e807-d409-464f-aab5-69c8c076f657"
      },
      "cell_type": "code",
      "source": [
        "import time\n",
        "import math\n",
        "if sys.platform == \"win32\":\n",
        "    import psutil\n",
        "    print(\"psutil\", psutil.Process().memory_info().rss)\n",
        "else:\n",
        "    # Note: if you execute Python from cygwin,\n",
        "    # the sys.platform is \"cygwin\"\n",
        "    # the grading system's sys.platform is \"linux2\"\n",
        "    import resource\n",
        "    print(\"resource\", resource.getrusage(resource.RUSAGE_SELF).ru_maxrss)"
      ],
      "execution_count": 0,
      "outputs": [
        {
          "output_type": "stream",
          "text": [
            "resource 134488\n"
          ],
          "name": "stdout"
        }
      ]
    },
    {
      "metadata": {
        "id": "l4YbBjblv7ul",
        "colab_type": "code",
        "colab": {}
      },
      "cell_type": "code",
      "source": [
        "## The Class that Represents the Puzzle\n",
        "\n",
        "class PuzzleState(object):\n",
        "\n",
        "    \"\"\"docstring for PuzzleState\"\"\"\n",
        "\n",
        "    def __init__(self, config, n, parent=None, action=\"Initial\", cost=0):\n",
        "\n",
        "        if n*n != len(config) or n < 2:\n",
        "\n",
        "            raise Exception(\"the length of config is not correct!\")\n",
        "\n",
        "        self.n = n\n",
        "\n",
        "        self.cost = cost\n",
        "\n",
        "        self.parent = parent\n",
        "\n",
        "        self.action = action\n",
        "\n",
        "        self.dimension = n\n",
        "\n",
        "        self.config = tuple(config)\n",
        "\n",
        "        self.children = []\n",
        "\n",
        "        for i, item in enumerate(self.config):\n",
        "\n",
        "            if item == 0:\n",
        "\n",
        "                self.blank_row = int(i/self.n)\n",
        "\n",
        "                self.blank_col = i % self.n\n",
        "\n",
        "                break\n",
        "                \n",
        "    def __eq__(self, other): # does self == other?\n",
        "        return self.config == other.config\n",
        "    \n",
        "    def display(self):\n",
        "      \n",
        "        line = np.reshape(self.config,(3,3))\n",
        "      \n",
        "        return (line)\n",
        "\n",
        "    def move_left(self):\n",
        "\n",
        "        if self.blank_col == 0:\n",
        "\n",
        "            return None\n",
        "\n",
        "        else:\n",
        "\n",
        "            blank_index = self.blank_row * self.n + self.blank_col\n",
        "\n",
        "            target = blank_index - 1\n",
        "\n",
        "            new_config = list(self.config)\n",
        "\n",
        "            new_config[blank_index], new_config[target] = new_config[target], new_config[blank_index]\n",
        "\n",
        "            return PuzzleState(tuple(new_config), self.n, parent=self, action=\"Left\", cost=self.cost + 1)\n",
        "\n",
        "    def move_right(self):\n",
        "\n",
        "        if self.blank_col == self.n - 1:\n",
        "\n",
        "            return None\n",
        "\n",
        "        else:\n",
        "\n",
        "            blank_index = self.blank_row * self.n + self.blank_col\n",
        "\n",
        "            target = blank_index + 1\n",
        "\n",
        "            new_config = list(self.config)\n",
        "\n",
        "            new_config[blank_index], new_config[target] = new_config[target], new_config[blank_index]\n",
        "\n",
        "            return PuzzleState(tuple(new_config), self.n, parent=self, action=\"Right\", cost=self.cost + 1)\n",
        "\n",
        "    def move_up(self):\n",
        "\n",
        "        if self.blank_row == 0:\n",
        "\n",
        "            return None\n",
        "\n",
        "        else:\n",
        "\n",
        "            blank_index = self.blank_row * self.n + self.blank_col\n",
        "\n",
        "            target = blank_index - self.n\n",
        "\n",
        "            new_config = list(self.config)\n",
        "\n",
        "            new_config[blank_index], new_config[target] = new_config[target], new_config[blank_index]\n",
        "\n",
        "            return PuzzleState(tuple(new_config), self.n, parent=self, action=\"Up\", cost=self.cost + 1)\n",
        "\n",
        "    def move_down(self):\n",
        "\n",
        "        if self.blank_row == self.n - 1:\n",
        "\n",
        "            return None\n",
        "\n",
        "        else:\n",
        "\n",
        "            blank_index = self.blank_row * self.n + self.blank_col\n",
        "\n",
        "            target = blank_index + self.n\n",
        "\n",
        "            new_config = list(self.config)\n",
        "\n",
        "            new_config[blank_index], new_config[target] = new_config[target], new_config[blank_index]\n",
        "\n",
        "            return PuzzleState(tuple(new_config), self.n, parent=self, action=\"Down\", cost=self.cost + 1)\n",
        "\n",
        "    def expand(self):\n",
        "\n",
        "        \"\"\"expand the node\"\"\"\n",
        "\n",
        "        # add child nodes in order of UDLR\n",
        "\n",
        "        if len(self.children) == 0:\n",
        "\n",
        "            up_child = self.move_up()\n",
        "\n",
        "            if up_child is not None:\n",
        "\n",
        "                self.children.append(up_child)\n",
        "\n",
        "            down_child = self.move_down()\n",
        "\n",
        "            if down_child is not None:\n",
        "\n",
        "                self.children.append(down_child)\n",
        "\n",
        "            left_child = self.move_left()\n",
        "\n",
        "            if left_child is not None:\n",
        "\n",
        "                self.children.append(left_child)\n",
        "\n",
        "            right_child = self.move_right()\n",
        "\n",
        "            if right_child is not None:\n",
        "\n",
        "                self.children.append(right_child)\n",
        "\n",
        "        return self.children"
      ],
      "execution_count": 0,
      "outputs": []
    },
    {
      "metadata": {
        "id": "nLKKrVEhwJ2d",
        "colab_type": "code",
        "colab": {}
      },
      "cell_type": "code",
      "source": [
        "goal_matrix = np.arange(9).reshape(3,3)"
      ],
      "execution_count": 0,
      "outputs": []
    },
    {
      "metadata": {
        "id": "hI-s9c6Fwd3N",
        "colab_type": "code",
        "colab": {}
      },
      "cell_type": "code",
      "source": [
        "size = 3\n",
        "begin_state =[1,2,5,3,4,0,6,7,8]\n",
        "begin_state = [int(i) for i in begin_state]"
      ],
      "execution_count": 0,
      "outputs": []
    },
    {
      "metadata": {
        "id": "kqpeYWDLwrTp",
        "colab_type": "code",
        "colab": {}
      },
      "cell_type": "code",
      "source": [
        "start_hard_state = PuzzleState(begin_state,size)"
      ],
      "execution_count": 0,
      "outputs": []
    },
    {
      "metadata": {
        "id": "xOa0rSJAwybK",
        "colab_type": "code",
        "colab": {}
      },
      "cell_type": "code",
      "source": [
        "def algo(initial_state, goal_test):\n",
        "    frontier = []\n",
        "    frontier.append(initial_state)\n",
        "    explored = []\n",
        "    cost_of_path = 0\n",
        "    \n",
        "    path_to_goal = []\n",
        "    while frontier:\n",
        "        \n",
        "        state = frontier.pop(0)\n",
        "        \n",
        "        explored.append(state)\n",
        "        print(explored)\n",
        "        if np.allclose(state.display(),goal_test):\n",
        "            cost_of_path = state.cost\n",
        "            nodes_expanded = len(explored) -1\n",
        "            path_to_goal.append(state.action)\n",
        "            path_to_goal.append(state.parent.action)\n",
        "            path_to_goal.append(state.parent.parent.action)\n",
        "            print(\"success\")\n",
        "            return cost_of_path,nodes_expanded,path_to_goal[::-1]\n",
        "        \n",
        "        for neighbour in state.expand():\n",
        "    \n",
        "            if (neighbour not in frontier and  explored):\n",
        "                frontier.append(neighbour)\n",
        "        \n",
        "    return print(\"fail\")"
      ],
      "execution_count": 0,
      "outputs": []
    },
    {
      "metadata": {
        "id": "BKUg38xIw_Cb",
        "colab_type": "code",
        "colab": {
          "base_uri": "https://localhost:8080/",
          "height": 346
        },
        "outputId": "6a5c6d8f-260b-434f-ece5-3a81ed683206"
      },
      "cell_type": "code",
      "source": [
        "algo(start_hard_state,goal_matrix)"
      ],
      "execution_count": 0,
      "outputs": [
        {
          "output_type": "stream",
          "text": [
            "[<__main__.PuzzleState object at 0x7f3d64ca1198>]\n",
            "[<__main__.PuzzleState object at 0x7f3d64ca1198>, <__main__.PuzzleState object at 0x7f3d64c0c978>]\n",
            "[<__main__.PuzzleState object at 0x7f3d64ca1198>, <__main__.PuzzleState object at 0x7f3d64c0c978>, <__main__.PuzzleState object at 0x7f3d64c0c5c0>]\n",
            "[<__main__.PuzzleState object at 0x7f3d64ca1198>, <__main__.PuzzleState object at 0x7f3d64c0c978>, <__main__.PuzzleState object at 0x7f3d64c0c5c0>, <__main__.PuzzleState object at 0x7f3d64c0c9e8>]\n",
            "[<__main__.PuzzleState object at 0x7f3d64ca1198>, <__main__.PuzzleState object at 0x7f3d64c0c978>, <__main__.PuzzleState object at 0x7f3d64c0c5c0>, <__main__.PuzzleState object at 0x7f3d64c0c9e8>, <__main__.PuzzleState object at 0x7f3d64c0ca20>]\n",
            "[<__main__.PuzzleState object at 0x7f3d64ca1198>, <__main__.PuzzleState object at 0x7f3d64c0c978>, <__main__.PuzzleState object at 0x7f3d64c0c5c0>, <__main__.PuzzleState object at 0x7f3d64c0c9e8>, <__main__.PuzzleState object at 0x7f3d64c0ca20>, <__main__.PuzzleState object at 0x7f3d64c0cac8>]\n",
            "[<__main__.PuzzleState object at 0x7f3d64ca1198>, <__main__.PuzzleState object at 0x7f3d64c0c978>, <__main__.PuzzleState object at 0x7f3d64c0c5c0>, <__main__.PuzzleState object at 0x7f3d64c0c9e8>, <__main__.PuzzleState object at 0x7f3d64c0ca20>, <__main__.PuzzleState object at 0x7f3d64c0cac8>, <__main__.PuzzleState object at 0x7f3d64c0ca90>]\n",
            "[<__main__.PuzzleState object at 0x7f3d64ca1198>, <__main__.PuzzleState object at 0x7f3d64c0c978>, <__main__.PuzzleState object at 0x7f3d64c0c5c0>, <__main__.PuzzleState object at 0x7f3d64c0c9e8>, <__main__.PuzzleState object at 0x7f3d64c0ca20>, <__main__.PuzzleState object at 0x7f3d64c0cac8>, <__main__.PuzzleState object at 0x7f3d64c0ca90>, <__main__.PuzzleState object at 0x7f3d64c0cb00>]\n",
            "[<__main__.PuzzleState object at 0x7f3d64ca1198>, <__main__.PuzzleState object at 0x7f3d64c0c978>, <__main__.PuzzleState object at 0x7f3d64c0c5c0>, <__main__.PuzzleState object at 0x7f3d64c0c9e8>, <__main__.PuzzleState object at 0x7f3d64c0ca20>, <__main__.PuzzleState object at 0x7f3d64c0cac8>, <__main__.PuzzleState object at 0x7f3d64c0ca90>, <__main__.PuzzleState object at 0x7f3d64c0cb00>, <__main__.PuzzleState object at 0x7f3d64c0cb70>]\n",
            "[<__main__.PuzzleState object at 0x7f3d64ca1198>, <__main__.PuzzleState object at 0x7f3d64c0c978>, <__main__.PuzzleState object at 0x7f3d64c0c5c0>, <__main__.PuzzleState object at 0x7f3d64c0c9e8>, <__main__.PuzzleState object at 0x7f3d64c0ca20>, <__main__.PuzzleState object at 0x7f3d64c0cac8>, <__main__.PuzzleState object at 0x7f3d64c0ca90>, <__main__.PuzzleState object at 0x7f3d64c0cb00>, <__main__.PuzzleState object at 0x7f3d64c0cb70>, <__main__.PuzzleState object at 0x7f3d64c0cb38>]\n",
            "[<__main__.PuzzleState object at 0x7f3d64ca1198>, <__main__.PuzzleState object at 0x7f3d64c0c978>, <__main__.PuzzleState object at 0x7f3d64c0c5c0>, <__main__.PuzzleState object at 0x7f3d64c0c9e8>, <__main__.PuzzleState object at 0x7f3d64c0ca20>, <__main__.PuzzleState object at 0x7f3d64c0cac8>, <__main__.PuzzleState object at 0x7f3d64c0ca90>, <__main__.PuzzleState object at 0x7f3d64c0cb00>, <__main__.PuzzleState object at 0x7f3d64c0cb70>, <__main__.PuzzleState object at 0x7f3d64c0cb38>, <__main__.PuzzleState object at 0x7f3d64c0cc18>]\n",
            "[<__main__.PuzzleState object at 0x7f3d64ca1198>, <__main__.PuzzleState object at 0x7f3d64c0c978>, <__main__.PuzzleState object at 0x7f3d64c0c5c0>, <__main__.PuzzleState object at 0x7f3d64c0c9e8>, <__main__.PuzzleState object at 0x7f3d64c0ca20>, <__main__.PuzzleState object at 0x7f3d64c0cac8>, <__main__.PuzzleState object at 0x7f3d64c0ca90>, <__main__.PuzzleState object at 0x7f3d64c0cb00>, <__main__.PuzzleState object at 0x7f3d64c0cb70>, <__main__.PuzzleState object at 0x7f3d64c0cb38>, <__main__.PuzzleState object at 0x7f3d64c0cc18>, <__main__.PuzzleState object at 0x7f3d64c0cbe0>]\n",
            "[<__main__.PuzzleState object at 0x7f3d64ca1198>, <__main__.PuzzleState object at 0x7f3d64c0c978>, <__main__.PuzzleState object at 0x7f3d64c0c5c0>, <__main__.PuzzleState object at 0x7f3d64c0c9e8>, <__main__.PuzzleState object at 0x7f3d64c0ca20>, <__main__.PuzzleState object at 0x7f3d64c0cac8>, <__main__.PuzzleState object at 0x7f3d64c0ca90>, <__main__.PuzzleState object at 0x7f3d64c0cb00>, <__main__.PuzzleState object at 0x7f3d64c0cb70>, <__main__.PuzzleState object at 0x7f3d64c0cb38>, <__main__.PuzzleState object at 0x7f3d64c0cc18>, <__main__.PuzzleState object at 0x7f3d64c0cbe0>, <__main__.PuzzleState object at 0x7f3d64c0cc50>]\n",
            "[<__main__.PuzzleState object at 0x7f3d64ca1198>, <__main__.PuzzleState object at 0x7f3d64c0c978>, <__main__.PuzzleState object at 0x7f3d64c0c5c0>, <__main__.PuzzleState object at 0x7f3d64c0c9e8>, <__main__.PuzzleState object at 0x7f3d64c0ca20>, <__main__.PuzzleState object at 0x7f3d64c0cac8>, <__main__.PuzzleState object at 0x7f3d64c0ca90>, <__main__.PuzzleState object at 0x7f3d64c0cb00>, <__main__.PuzzleState object at 0x7f3d64c0cb70>, <__main__.PuzzleState object at 0x7f3d64c0cb38>, <__main__.PuzzleState object at 0x7f3d64c0cc18>, <__main__.PuzzleState object at 0x7f3d64c0cbe0>, <__main__.PuzzleState object at 0x7f3d64c0cc50>, <__main__.PuzzleState object at 0x7f3d64c0ccc0>]\n",
            "[<__main__.PuzzleState object at 0x7f3d64ca1198>, <__main__.PuzzleState object at 0x7f3d64c0c978>, <__main__.PuzzleState object at 0x7f3d64c0c5c0>, <__main__.PuzzleState object at 0x7f3d64c0c9e8>, <__main__.PuzzleState object at 0x7f3d64c0ca20>, <__main__.PuzzleState object at 0x7f3d64c0cac8>, <__main__.PuzzleState object at 0x7f3d64c0ca90>, <__main__.PuzzleState object at 0x7f3d64c0cb00>, <__main__.PuzzleState object at 0x7f3d64c0cb70>, <__main__.PuzzleState object at 0x7f3d64c0cb38>, <__main__.PuzzleState object at 0x7f3d64c0cc18>, <__main__.PuzzleState object at 0x7f3d64c0cbe0>, <__main__.PuzzleState object at 0x7f3d64c0cc50>, <__main__.PuzzleState object at 0x7f3d64c0ccc0>, <__main__.PuzzleState object at 0x7f3d64c0cc88>]\n",
            "success\n"
          ],
          "name": "stdout"
        },
        {
          "output_type": "execute_result",
          "data": {
            "text/plain": [
              "(3, 14, ['Up', 'Left', 'Left'])"
            ]
          },
          "metadata": {
            "tags": []
          },
          "execution_count": 15
        }
      ]
    },
    {
      "metadata": {
        "id": "uiKKkPlOxIjg",
        "colab_type": "code",
        "colab": {}
      },
      "cell_type": "code",
      "source": [
        ""
      ],
      "execution_count": 0,
      "outputs": []
    }
  ]
}